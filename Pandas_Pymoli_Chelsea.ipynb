{
 "cells": [
  {
   "cell_type": "markdown",
   "metadata": {},
   "source": [
    "### Note\n",
    "* Instructions have been included for each segment. You do not have to follow them exactly, but they are included to help you think through the steps."
   ]
  },
  {
   "cell_type": "code",
   "execution_count": 41,
   "metadata": {},
   "outputs": [],
   "source": [
    "# Dependencies and Setup\n",
    "import pandas as pd\n",
    "\n",
    "# File to Load (Remember to Change These)\n",
    "file_to_load = \"purchase_data.csv\"\n",
    "\n",
    "# Read Purchasing File and store into Pandas data frame\n",
    "purchase_data = pd.read_csv(file_to_load)"
   ]
  },
  {
   "cell_type": "code",
   "execution_count": 42,
   "metadata": {},
   "outputs": [
    {
     "data": {
      "text/html": [
       "<div>\n",
       "<style scoped>\n",
       "    .dataframe tbody tr th:only-of-type {\n",
       "        vertical-align: middle;\n",
       "    }\n",
       "\n",
       "    .dataframe tbody tr th {\n",
       "        vertical-align: top;\n",
       "    }\n",
       "\n",
       "    .dataframe thead th {\n",
       "        text-align: right;\n",
       "    }\n",
       "</style>\n",
       "<table border=\"1\" class=\"dataframe\">\n",
       "  <thead>\n",
       "    <tr style=\"text-align: right;\">\n",
       "      <th></th>\n",
       "      <th>Purchase ID</th>\n",
       "      <th>SN</th>\n",
       "      <th>Age</th>\n",
       "      <th>Gender</th>\n",
       "      <th>Item ID</th>\n",
       "      <th>Item Name</th>\n",
       "      <th>Price</th>\n",
       "    </tr>\n",
       "  </thead>\n",
       "  <tbody>\n",
       "    <tr>\n",
       "      <td>0</td>\n",
       "      <td>0</td>\n",
       "      <td>Lisim78</td>\n",
       "      <td>20</td>\n",
       "      <td>Male</td>\n",
       "      <td>108</td>\n",
       "      <td>Extraction, Quickblade Of Trembling Hands</td>\n",
       "      <td>3.53</td>\n",
       "    </tr>\n",
       "    <tr>\n",
       "      <td>1</td>\n",
       "      <td>1</td>\n",
       "      <td>Lisovynya38</td>\n",
       "      <td>40</td>\n",
       "      <td>Male</td>\n",
       "      <td>143</td>\n",
       "      <td>Frenzied Scimitar</td>\n",
       "      <td>1.56</td>\n",
       "    </tr>\n",
       "    <tr>\n",
       "      <td>2</td>\n",
       "      <td>2</td>\n",
       "      <td>Ithergue48</td>\n",
       "      <td>24</td>\n",
       "      <td>Male</td>\n",
       "      <td>92</td>\n",
       "      <td>Final Critic</td>\n",
       "      <td>4.88</td>\n",
       "    </tr>\n",
       "    <tr>\n",
       "      <td>3</td>\n",
       "      <td>3</td>\n",
       "      <td>Chamassasya86</td>\n",
       "      <td>24</td>\n",
       "      <td>Male</td>\n",
       "      <td>100</td>\n",
       "      <td>Blindscythe</td>\n",
       "      <td>3.27</td>\n",
       "    </tr>\n",
       "    <tr>\n",
       "      <td>4</td>\n",
       "      <td>4</td>\n",
       "      <td>Iskosia90</td>\n",
       "      <td>23</td>\n",
       "      <td>Male</td>\n",
       "      <td>131</td>\n",
       "      <td>Fury</td>\n",
       "      <td>1.44</td>\n",
       "    </tr>\n",
       "  </tbody>\n",
       "</table>\n",
       "</div>"
      ],
      "text/plain": [
       "   Purchase ID             SN  Age Gender  Item ID  \\\n",
       "0            0        Lisim78   20   Male      108   \n",
       "1            1    Lisovynya38   40   Male      143   \n",
       "2            2     Ithergue48   24   Male       92   \n",
       "3            3  Chamassasya86   24   Male      100   \n",
       "4            4      Iskosia90   23   Male      131   \n",
       "\n",
       "                                   Item Name  Price  \n",
       "0  Extraction, Quickblade Of Trembling Hands   3.53  \n",
       "1                          Frenzied Scimitar   1.56  \n",
       "2                               Final Critic   4.88  \n",
       "3                                Blindscythe   3.27  \n",
       "4                                       Fury   1.44  "
      ]
     },
     "execution_count": 42,
     "metadata": {},
     "output_type": "execute_result"
    }
   ],
   "source": [
    "purchase_data.head()"
   ]
  },
  {
   "cell_type": "markdown",
   "metadata": {},
   "source": [
    "## Player Count"
   ]
  },
  {
   "cell_type": "markdown",
   "metadata": {},
   "source": [
    "* Display the total number of players\n"
   ]
  },
  {
   "cell_type": "code",
   "execution_count": 43,
   "metadata": {},
   "outputs": [
    {
     "data": {
      "text/html": [
       "<div>\n",
       "<style scoped>\n",
       "    .dataframe tbody tr th:only-of-type {\n",
       "        vertical-align: middle;\n",
       "    }\n",
       "\n",
       "    .dataframe tbody tr th {\n",
       "        vertical-align: top;\n",
       "    }\n",
       "\n",
       "    .dataframe thead th {\n",
       "        text-align: right;\n",
       "    }\n",
       "</style>\n",
       "<table border=\"1\" class=\"dataframe\">\n",
       "  <thead>\n",
       "    <tr style=\"text-align: right;\">\n",
       "      <th></th>\n",
       "      <th>Total Players</th>\n",
       "    </tr>\n",
       "  </thead>\n",
       "  <tbody>\n",
       "    <tr>\n",
       "      <td>0</td>\n",
       "      <td>576</td>\n",
       "    </tr>\n",
       "  </tbody>\n",
       "</table>\n",
       "</div>"
      ],
      "text/plain": [
       "   Total Players\n",
       "0            576"
      ]
     },
     "execution_count": 43,
     "metadata": {},
     "output_type": "execute_result"
    }
   ],
   "source": [
    "#number of playas, just like me.... \n",
    "num_playas = purchase_data['SN'].nunique()\n",
    "total_playas_display = pd.DataFrame({\"Total Players\": [num_playas]})\n",
    "total_playas_display\n"
   ]
  },
  {
   "cell_type": "markdown",
   "metadata": {},
   "source": [
    "## Purchasing Analysis (Total)"
   ]
  },
  {
   "cell_type": "markdown",
   "metadata": {},
   "source": [
    "* Run basic calculations to obtain number of unique items, average price, etc.\n",
    "\n",
    "\n",
    "* Create a summary data frame to hold the results\n",
    "\n",
    "\n",
    "* Optional: give the displayed data cleaner formatting\n",
    "\n",
    "\n",
    "* Display the summary data frame\n"
   ]
  },
  {
   "cell_type": "code",
   "execution_count": 44,
   "metadata": {},
   "outputs": [
    {
     "data": {
      "text/plain": [
       "183"
      ]
     },
     "execution_count": 44,
     "metadata": {},
     "output_type": "execute_result"
    }
   ],
   "source": [
    "#unique items.... unique like me\n",
    "unique_items = purchase_data['Item ID'].nunique()\n",
    "unique_items"
   ]
  },
  {
   "cell_type": "code",
   "execution_count": 45,
   "metadata": {},
   "outputs": [
    {
     "data": {
      "text/plain": [
       "3.05"
      ]
     },
     "execution_count": 45,
     "metadata": {},
     "output_type": "execute_result"
    }
   ],
   "source": [
    "#avg purchase price\n",
    "average_price =(purchase_data['Price'].sum()/purchase_data['Price'].count()).round(2)\n",
    "average_price\n"
   ]
  },
  {
   "cell_type": "code",
   "execution_count": 46,
   "metadata": {},
   "outputs": [
    {
     "data": {
      "text/plain": [
       "780"
      ]
     },
     "execution_count": 46,
     "metadata": {},
     "output_type": "execute_result"
    }
   ],
   "source": [
    "#total number of purchases\n",
    "total_purchases = len(purchase_data)\n",
    "total_purchases"
   ]
  },
  {
   "cell_type": "code",
   "execution_count": 47,
   "metadata": {},
   "outputs": [
    {
     "data": {
      "text/plain": [
       "2379.77"
      ]
     },
     "execution_count": 47,
     "metadata": {},
     "output_type": "execute_result"
    }
   ],
   "source": [
    "#total revenue\n",
    "\n",
    "total_rev = purchase_data[\"Price\"].sum()\n",
    "total_rev"
   ]
  },
  {
   "cell_type": "code",
   "execution_count": 48,
   "metadata": {},
   "outputs": [
    {
     "data": {
      "text/html": [
       "<style  type=\"text/css\" >\n",
       "</style><table id=\"T_d1fc78cc_2ff5_11ea_b604_b068e6390dee\" ><thead>    <tr>        <th class=\"blank level0\" ></th>        <th class=\"col_heading level0 col0\" >Number of Unique Items</th>        <th class=\"col_heading level0 col1\" >Average Price</th>        <th class=\"col_heading level0 col2\" >Number of Purchases</th>        <th class=\"col_heading level0 col3\" >Total Revenue</th>    </tr></thead><tbody>\n",
       "                <tr>\n",
       "                        <th id=\"T_d1fc78cc_2ff5_11ea_b604_b068e6390deelevel0_row0\" class=\"row_heading level0 row0\" >0</th>\n",
       "                        <td id=\"T_d1fc78cc_2ff5_11ea_b604_b068e6390deerow0_col0\" class=\"data row0 col0\" >183</td>\n",
       "                        <td id=\"T_d1fc78cc_2ff5_11ea_b604_b068e6390deerow0_col1\" class=\"data row0 col1\" >$3.05</td>\n",
       "                        <td id=\"T_d1fc78cc_2ff5_11ea_b604_b068e6390deerow0_col2\" class=\"data row0 col2\" >780</td>\n",
       "                        <td id=\"T_d1fc78cc_2ff5_11ea_b604_b068e6390deerow0_col3\" class=\"data row0 col3\" >$2379.77</td>\n",
       "            </tr>\n",
       "    </tbody></table>"
      ],
      "text/plain": [
       "<pandas.io.formats.style.Styler at 0x1e9e3565ac8>"
      ]
     },
     "execution_count": 48,
     "metadata": {},
     "output_type": "execute_result"
    }
   ],
   "source": [
    "#summary data frame\n",
    "summary_df = pd.DataFrame({\"Number of Unique Items\":[unique_items],\"Average Price\":[average_price],\"Number of Purchases\":[total_purchases],\"Total Revenue\":[total_rev]})\n",
    "\n",
    "#style fix\n",
    "summary_df.style.format({\"Average Price\": \"${:.2f}\", \"Total Revenue\": \"${:.2f}\"})"
   ]
  },
  {
   "cell_type": "markdown",
   "metadata": {},
   "source": [
    "## Gender Demographics"
   ]
  },
  {
   "cell_type": "markdown",
   "metadata": {},
   "source": [
    "* Percentage and Count of Male Players\n",
    "\n",
    "\n",
    "* Percentage and Count of Female Players\n",
    "\n",
    "\n",
    "* Percentage and Count of Other / Non-Disclosed\n",
    "\n",
    "\n"
   ]
  },
  {
   "cell_type": "code",
   "execution_count": 49,
   "metadata": {},
   "outputs": [],
   "source": [
    "#counting all, males, females, other, etc for displaying unique walues\n",
    "total_count = purchase_data[\"SN\"].nunique()\n",
    "male_count = purchase_data[purchase_data[\"Gender\"] == \"Male\"][\"SN\"].nunique()\n",
    "female_count = purchase_data[purchase_data[\"Gender\"] == \"Female\"][\"SN\"].nunique()\n",
    "\n",
    "\n",
    "other_count = total_count - male_count - female_count\n",
    "\n",
    "#percentage calculations, playa\n",
    "male_percent = ((male_count/total_count)*100)\n",
    "female_percent = ((female_count/total_count)*100)\n",
    "other_percent = ((other_count/total_count)*100)\n"
   ]
  },
  {
   "cell_type": "code",
   "execution_count": 50,
   "metadata": {},
   "outputs": [
    {
     "data": {
      "text/html": [
       "<style  type=\"text/css\" >\n",
       "</style><table id=\"T_de5bd9f6_2ff5_11ea_8ef3_b068e6390dee\" ><thead>    <tr>        <th class=\"blank level0\" ></th>        <th class=\"col_heading level0 col0\" >Percentage of Players</th>        <th class=\"col_heading level0 col1\" >Total Count</th>    </tr>    <tr>        <th class=\"index_name level0\" >Gender</th>        <th class=\"blank\" ></th>        <th class=\"blank\" ></th>    </tr></thead><tbody>\n",
       "                <tr>\n",
       "                        <th id=\"T_de5bd9f6_2ff5_11ea_8ef3_b068e6390deelevel0_row0\" class=\"row_heading level0 row0\" >Male</th>\n",
       "                        <td id=\"T_de5bd9f6_2ff5_11ea_8ef3_b068e6390deerow0_col0\" class=\"data row0 col0\" >84.03%</td>\n",
       "                        <td id=\"T_de5bd9f6_2ff5_11ea_8ef3_b068e6390deerow0_col1\" class=\"data row0 col1\" >484</td>\n",
       "            </tr>\n",
       "            <tr>\n",
       "                        <th id=\"T_de5bd9f6_2ff5_11ea_8ef3_b068e6390deelevel0_row1\" class=\"row_heading level0 row1\" >Female</th>\n",
       "                        <td id=\"T_de5bd9f6_2ff5_11ea_8ef3_b068e6390deerow1_col0\" class=\"data row1 col0\" >14.06%</td>\n",
       "                        <td id=\"T_de5bd9f6_2ff5_11ea_8ef3_b068e6390deerow1_col1\" class=\"data row1 col1\" >81</td>\n",
       "            </tr>\n",
       "            <tr>\n",
       "                        <th id=\"T_de5bd9f6_2ff5_11ea_8ef3_b068e6390deelevel0_row2\" class=\"row_heading level0 row2\" >Other / Non-Disclosed</th>\n",
       "                        <td id=\"T_de5bd9f6_2ff5_11ea_8ef3_b068e6390deerow2_col0\" class=\"data row2 col0\" >1.91%</td>\n",
       "                        <td id=\"T_de5bd9f6_2ff5_11ea_8ef3_b068e6390deerow2_col1\" class=\"data row2 col1\" >11</td>\n",
       "            </tr>\n",
       "    </tbody></table>"
      ],
      "text/plain": [
       "<pandas.io.formats.style.Styler at 0x1e9e33b2708>"
      ]
     },
     "execution_count": 50,
     "metadata": {},
     "output_type": "execute_result"
    }
   ],
   "source": [
    "#gender dempgraphics display setup \n",
    "gender_demograph = pd.DataFrame({\"Gender\": [\"Male\", \"Female\", \"Other / Non-Disclosed\"],\"Total Count\": [male_count, female_count, other_count], \"Percentage of Players\": [male_percent, female_percent, other_percent]}, columns = \n",
    "                                        [\"Gender\", \"Percentage of Players\", \"Total Count\"])\n",
    "                                        \n",
    "gender_demograph_final = gender_demograph.set_index(\"Gender\")\n",
    "\n",
    "\n",
    "#style formatting\n",
    "gender_demograph_final.style.format({\"Percentage of Players\": \"{:.2f}%\"})"
   ]
  },
  {
   "cell_type": "markdown",
   "metadata": {},
   "source": [
    "\n",
    "## Purchasing Analysis (Gender)"
   ]
  },
  {
   "cell_type": "markdown",
   "metadata": {},
   "source": [
    "* Run basic calculations to obtain purchase count, avg. purchase price, avg. purchase total per person etc. by gender\n",
    "\n",
    "\n",
    "\n",
    "\n",
    "* Create a summary data frame to hold the results\n",
    "\n",
    "\n",
    "* Optional: give the displayed data cleaner formatting\n",
    "\n",
    "\n",
    "* Display the summary data frame"
   ]
  },
  {
   "cell_type": "code",
   "execution_count": 51,
   "metadata": {},
   "outputs": [],
   "source": [
    "#purchase count per gender\n",
    "male_purch = purchase_data[purchase_data[\"Gender\"] == \"Male\"][\"Price\"].count()\n",
    "female_purch = purchase_data[purchase_data[\"Gender\"] == \"Female\"][\"Price\"].count()\n",
    "other_purch = total_purchases - male_purch - female_purch\n",
    "\n",
    "#avg purchase price per gender \n",
    "malepriceavg = purchase_data[purchase_data[\"Gender\"] == \"Male\"]['Price'].mean()\n",
    "fempriceavg = purchase_data[purchase_data[\"Gender\"] == \"Female\"]['Price'].mean()\n",
    "othpriceavg = purchase_data[purchase_data[\"Gender\"] == \"Other / Non-Disclosed\"]['Price'].mean()\n",
    "\n",
    "#avg purchase total per gender\n",
    "malepricetot = purchase_data[purchase_data[\"Gender\"] == \"Male\"]['Price'].sum()\n",
    "fempricetot = purchase_data[purchase_data[\"Gender\"] == \"Female\"]['Price'].sum()\n",
    "othpricetot = purchase_data[purchase_data[\"Gender\"] == \"Other / Non-Disclosed\"]['Price'].sum()"
   ]
  },
  {
   "cell_type": "code",
   "execution_count": 52,
   "metadata": {},
   "outputs": [
    {
     "data": {
      "text/html": [
       "<style  type=\"text/css\" >\n",
       "</style><table id=\"T_e6eb0f46_2ff5_11ea_b59d_b068e6390dee\" ><thead>    <tr>        <th class=\"blank level0\" ></th>        <th class=\"col_heading level0 col0\" >Purchase Count</th>        <th class=\"col_heading level0 col1\" >Average Purchase Price</th>        <th class=\"col_heading level0 col2\" >Total Purchase Value</th>        <th class=\"col_heading level0 col3\" >Normalized Totals</th>    </tr>    <tr>        <th class=\"index_name level0\" >Gender</th>        <th class=\"blank\" ></th>        <th class=\"blank\" ></th>        <th class=\"blank\" ></th>        <th class=\"blank\" ></th>    </tr></thead><tbody>\n",
       "                <tr>\n",
       "                        <th id=\"T_e6eb0f46_2ff5_11ea_b59d_b068e6390deelevel0_row0\" class=\"row_heading level0 row0\" >Male</th>\n",
       "                        <td id=\"T_e6eb0f46_2ff5_11ea_b59d_b068e6390deerow0_col0\" class=\"data row0 col0\" >652</td>\n",
       "                        <td id=\"T_e6eb0f46_2ff5_11ea_b59d_b068e6390deerow0_col1\" class=\"data row0 col1\" >$3.02</td>\n",
       "                        <td id=\"T_e6eb0f46_2ff5_11ea_b59d_b068e6390deerow0_col2\" class=\"data row0 col2\" >$1967.64</td>\n",
       "                        <td id=\"T_e6eb0f46_2ff5_11ea_b59d_b068e6390deerow0_col3\" class=\"data row0 col3\" >$4.07</td>\n",
       "            </tr>\n",
       "            <tr>\n",
       "                        <th id=\"T_e6eb0f46_2ff5_11ea_b59d_b068e6390deelevel0_row1\" class=\"row_heading level0 row1\" >Female</th>\n",
       "                        <td id=\"T_e6eb0f46_2ff5_11ea_b59d_b068e6390deerow1_col0\" class=\"data row1 col0\" >113</td>\n",
       "                        <td id=\"T_e6eb0f46_2ff5_11ea_b59d_b068e6390deerow1_col1\" class=\"data row1 col1\" >$3.20</td>\n",
       "                        <td id=\"T_e6eb0f46_2ff5_11ea_b59d_b068e6390deerow1_col2\" class=\"data row1 col2\" >$361.94</td>\n",
       "                        <td id=\"T_e6eb0f46_2ff5_11ea_b59d_b068e6390deerow1_col3\" class=\"data row1 col3\" >$4.47</td>\n",
       "            </tr>\n",
       "            <tr>\n",
       "                        <th id=\"T_e6eb0f46_2ff5_11ea_b59d_b068e6390deelevel0_row2\" class=\"row_heading level0 row2\" >Other / Non-Disclosed</th>\n",
       "                        <td id=\"T_e6eb0f46_2ff5_11ea_b59d_b068e6390deerow2_col0\" class=\"data row2 col0\" >15</td>\n",
       "                        <td id=\"T_e6eb0f46_2ff5_11ea_b59d_b068e6390deerow2_col1\" class=\"data row2 col1\" >$3.35</td>\n",
       "                        <td id=\"T_e6eb0f46_2ff5_11ea_b59d_b068e6390deerow2_col2\" class=\"data row2 col2\" >$50.19</td>\n",
       "                        <td id=\"T_e6eb0f46_2ff5_11ea_b59d_b068e6390deerow2_col3\" class=\"data row2 col3\" >$4.56</td>\n",
       "            </tr>\n",
       "    </tbody></table>"
      ],
      "text/plain": [
       "<pandas.io.formats.style.Styler at 0x1e9e33a7c08>"
      ]
     },
     "execution_count": 52,
     "metadata": {},
     "output_type": "execute_result"
    }
   ],
   "source": [
    "#summary data frame and display\n",
    "mnorm = malepricetot/male_count\n",
    "fnorm = fempricetot/female_count\n",
    "onorm = othpricetot/other_count\n",
    "\n",
    "gender_purchases = pd.DataFrame({\"Gender\": [\"Male\", \"Female\", \"Other / Non-Disclosed\"], \"Purchase Count\": [male_purch, female_purch, other_purch],\n",
    "                                        \"Average Purchase Price\": [malepriceavg, fempriceavg, othpriceavg], \"Total Purchase Value\": [malepricetot, fempricetot, othpricetot],\n",
    "                                \"Normalized Totals\": [mnorm, fnorm, onorm]}, columns = \n",
    "                                        [\"Gender\", \"Purchase Count\", \"Average Purchase Price\", \"Total Purchase Value\", \"Normalized Totals\"])\n",
    "                                        \n",
    "gender_purchase_final = gender_purchases.set_index(\"Gender\")\n",
    "\n",
    "#formatting data\n",
    "gender_purchase_final.style.format({\"Average Purchase Price\": \"${:.2f}\", \"Total Purchase Value\": \"${:.2f}\", \"Normalized Totals\": \"${:.2f}\"})\n",
    "\n"
   ]
  },
  {
   "cell_type": "markdown",
   "metadata": {},
   "source": [
    "## Age Demographics"
   ]
  },
  {
   "cell_type": "markdown",
   "metadata": {},
   "source": [
    "* Establish bins for ages\n",
    "\n",
    "\n",
    "* Categorize the existing players using the age bins. Hint: use pd.cut()\n",
    "\n",
    "\n",
    "* Calculate the numbers and percentages by age group\n",
    "\n",
    "\n",
    "* Create a summary data frame to hold the results\n",
    "\n",
    "\n",
    "* Optional: round the percentage column to two decimal points\n",
    "\n",
    "\n",
    "* Display Age Demographics Table\n"
   ]
  },
  {
   "cell_type": "code",
   "execution_count": 53,
   "metadata": {},
   "outputs": [],
   "source": [
    "#establish bin names for ages of population\n",
    "children = purchase_data[purchase_data[\"Age\"] <10]\n",
    "tween = purchase_data[(purchase_data[\"Age\"] >=10) & (purchase_data[\"Age\"] <=14)]\n",
    "teen = purchase_data[(purchase_data[\"Age\"] >=15) & (purchase_data[\"Age\"] <=19)]\n",
    "college = purchase_data[(purchase_data[\"Age\"] >=20) & (purchase_data[\"Age\"] <=24)]\n",
    "midtwent = purchase_data[(purchase_data[\"Age\"] >=25) & (purchase_data[\"Age\"] <=29)]\n",
    "thirt = purchase_data[(purchase_data[\"Age\"] >=30) & (purchase_data[\"Age\"] <=34)]\n",
    "latethirt = purchase_data[(purchase_data[\"Age\"] >=35) & (purchase_data[\"Age\"] <=39)]\n",
    "fort = purchase_data[(purchase_data[\"Age\"] >=40) & (purchase_data[\"Age\"] <=44)]\n",
    "latefort = purchase_data[(purchase_data[\"Age\"] >=45) & (purchase_data[\"Age\"] <=49)]\n",
    "\n"
   ]
  },
  {
   "cell_type": "code",
   "execution_count": 54,
   "metadata": {},
   "outputs": [
    {
     "data": {
      "text/html": [
       "<style  type=\"text/css\" >\n",
       "</style><table id=\"T_ef4b1f36_2ff5_11ea_9876_b068e6390dee\" ><thead>    <tr>        <th class=\"blank level0\" ></th>        <th class=\"col_heading level0 col0\" >Percentage of Players</th>        <th class=\"col_heading level0 col1\" >Total Count</th>    </tr>    <tr>        <th class=\"index_name level0\" >Age</th>        <th class=\"blank\" ></th>        <th class=\"blank\" ></th>    </tr></thead><tbody>\n",
       "                <tr>\n",
       "                        <th id=\"T_ef4b1f36_2ff5_11ea_9876_b068e6390deelevel0_row0\" class=\"row_heading level0 row0\" ><10</th>\n",
       "                        <td id=\"T_ef4b1f36_2ff5_11ea_9876_b068e6390deerow0_col0\" class=\"data row0 col0\" >2.95%</td>\n",
       "                        <td id=\"T_ef4b1f36_2ff5_11ea_9876_b068e6390deerow0_col1\" class=\"data row0 col1\" >17</td>\n",
       "            </tr>\n",
       "            <tr>\n",
       "                        <th id=\"T_ef4b1f36_2ff5_11ea_9876_b068e6390deelevel0_row1\" class=\"row_heading level0 row1\" >10-14</th>\n",
       "                        <td id=\"T_ef4b1f36_2ff5_11ea_9876_b068e6390deerow1_col0\" class=\"data row1 col0\" >3.82%</td>\n",
       "                        <td id=\"T_ef4b1f36_2ff5_11ea_9876_b068e6390deerow1_col1\" class=\"data row1 col1\" >22</td>\n",
       "            </tr>\n",
       "            <tr>\n",
       "                        <th id=\"T_ef4b1f36_2ff5_11ea_9876_b068e6390deelevel0_row2\" class=\"row_heading level0 row2\" >15-19</th>\n",
       "                        <td id=\"T_ef4b1f36_2ff5_11ea_9876_b068e6390deerow2_col0\" class=\"data row2 col0\" >18.58%</td>\n",
       "                        <td id=\"T_ef4b1f36_2ff5_11ea_9876_b068e6390deerow2_col1\" class=\"data row2 col1\" >107</td>\n",
       "            </tr>\n",
       "            <tr>\n",
       "                        <th id=\"T_ef4b1f36_2ff5_11ea_9876_b068e6390deelevel0_row3\" class=\"row_heading level0 row3\" >20-24</th>\n",
       "                        <td id=\"T_ef4b1f36_2ff5_11ea_9876_b068e6390deerow3_col0\" class=\"data row3 col0\" >44.79%</td>\n",
       "                        <td id=\"T_ef4b1f36_2ff5_11ea_9876_b068e6390deerow3_col1\" class=\"data row3 col1\" >258</td>\n",
       "            </tr>\n",
       "            <tr>\n",
       "                        <th id=\"T_ef4b1f36_2ff5_11ea_9876_b068e6390deelevel0_row4\" class=\"row_heading level0 row4\" >25-29</th>\n",
       "                        <td id=\"T_ef4b1f36_2ff5_11ea_9876_b068e6390deerow4_col0\" class=\"data row4 col0\" >13.37%</td>\n",
       "                        <td id=\"T_ef4b1f36_2ff5_11ea_9876_b068e6390deerow4_col1\" class=\"data row4 col1\" >77</td>\n",
       "            </tr>\n",
       "            <tr>\n",
       "                        <th id=\"T_ef4b1f36_2ff5_11ea_9876_b068e6390deelevel0_row5\" class=\"row_heading level0 row5\" >30-34</th>\n",
       "                        <td id=\"T_ef4b1f36_2ff5_11ea_9876_b068e6390deerow5_col0\" class=\"data row5 col0\" >9.03%</td>\n",
       "                        <td id=\"T_ef4b1f36_2ff5_11ea_9876_b068e6390deerow5_col1\" class=\"data row5 col1\" >52</td>\n",
       "            </tr>\n",
       "            <tr>\n",
       "                        <th id=\"T_ef4b1f36_2ff5_11ea_9876_b068e6390deelevel0_row6\" class=\"row_heading level0 row6\" >35-39</th>\n",
       "                        <td id=\"T_ef4b1f36_2ff5_11ea_9876_b068e6390deerow6_col0\" class=\"data row6 col0\" >5.38%</td>\n",
       "                        <td id=\"T_ef4b1f36_2ff5_11ea_9876_b068e6390deerow6_col1\" class=\"data row6 col1\" >31</td>\n",
       "            </tr>\n",
       "            <tr>\n",
       "                        <th id=\"T_ef4b1f36_2ff5_11ea_9876_b068e6390deelevel0_row7\" class=\"row_heading level0 row7\" >40-44</th>\n",
       "                        <td id=\"T_ef4b1f36_2ff5_11ea_9876_b068e6390deerow7_col0\" class=\"data row7 col0\" >1.91%</td>\n",
       "                        <td id=\"T_ef4b1f36_2ff5_11ea_9876_b068e6390deerow7_col1\" class=\"data row7 col1\" >11</td>\n",
       "            </tr>\n",
       "            <tr>\n",
       "                        <th id=\"T_ef4b1f36_2ff5_11ea_9876_b068e6390deelevel0_row8\" class=\"row_heading level0 row8\" >45-49</th>\n",
       "                        <td id=\"T_ef4b1f36_2ff5_11ea_9876_b068e6390deerow8_col0\" class=\"data row8 col0\" >0.17%</td>\n",
       "                        <td id=\"T_ef4b1f36_2ff5_11ea_9876_b068e6390deerow8_col1\" class=\"data row8 col1\" >1</td>\n",
       "            </tr>\n",
       "    </tbody></table>"
      ],
      "text/plain": [
       "<pandas.io.formats.style.Styler at 0x1e9e33b5188>"
      ]
     },
     "execution_count": 54,
     "metadata": {},
     "output_type": "execute_result"
    }
   ],
   "source": [
    "#setting up data frame to display\n",
    "age_demograph = pd.DataFrame({\"Age\": [\"<10\", \"10-14\", \"15-19\", \"20-24\", \"25-29\", \"30-34\", \"35-39\", \"40-44\", \"45-49\"],\n",
    "                        \"Percentage of Players\": [(children[\"SN\"].nunique()/total_count)*100, (tween[\"SN\"].nunique()/total_count)*100, (teen[\"SN\"].nunique()/total_count)*100, (college[\"SN\"].nunique()/total_count)*100, (midtwent[\"SN\"].nunique()/total_count)*100, (thirt[\"SN\"].nunique()/total_count)*100, (latethirt[\"SN\"].nunique()/total_count)*100, (fort[\"SN\"].nunique()/total_count)*100, (latefort[\"SN\"].nunique()/total_count)*100],\n",
    "                        \"Total Count\": [children[\"SN\"].nunique(), tween[\"SN\"].nunique(), teen[\"SN\"].nunique(), college[\"SN\"].nunique(), midtwent[\"SN\"].nunique(), thirt[\"SN\"].nunique(), latethirt[\"SN\"].nunique(), fort[\"SN\"].nunique(), latefort[\"SN\"].nunique()]\n",
    "                       })\n",
    "#style fixes\n",
    "age_demograph_final = age_demograph.set_index(\"Age\")\n",
    "age_demograph_final.style.format({\"Percentage of Players\": \"{:.2f}%\"})"
   ]
  },
  {
   "cell_type": "markdown",
   "metadata": {},
   "source": [
    "## Purchasing Analysis (Age)"
   ]
  },
  {
   "cell_type": "markdown",
   "metadata": {},
   "source": [
    "* Bin the purchase_data data frame by age\n",
    "\n",
    "\n",
    "* Run basic calculations to obtain purchase count, avg. purchase price, avg. purchase total per person etc. in the table below\n",
    "\n",
    "\n",
    "* Create a summary data frame to hold the results\n",
    "\n",
    "\n",
    "* Optional: give the displayed data cleaner formatting\n",
    "\n",
    "\n",
    "* Display the summary data frame"
   ]
  },
  {
   "cell_type": "code",
   "execution_count": 55,
   "metadata": {},
   "outputs": [
    {
     "data": {
      "text/html": [
       "<style  type=\"text/css\" >\n",
       "</style><table id=\"T_fc44c9e8_2ff5_11ea_83fe_b068e6390dee\" ><thead>    <tr>        <th class=\"blank level0\" ></th>        <th class=\"col_heading level0 col0\" >Purchase Count</th>        <th class=\"col_heading level0 col1\" >Average Purchase Price</th>        <th class=\"col_heading level0 col2\" >Total Purchase Value</th>        <th class=\"col_heading level0 col3\" >Average Total Purchase per Person</th>    </tr>    <tr>        <th class=\"index_name level0\" >Age</th>        <th class=\"blank\" ></th>        <th class=\"blank\" ></th>        <th class=\"blank\" ></th>        <th class=\"blank\" ></th>    </tr></thead><tbody>\n",
       "                <tr>\n",
       "                        <th id=\"T_fc44c9e8_2ff5_11ea_83fe_b068e6390deelevel0_row0\" class=\"row_heading level0 row0\" ><10</th>\n",
       "                        <td id=\"T_fc44c9e8_2ff5_11ea_83fe_b068e6390deerow0_col0\" class=\"data row0 col0\" >23</td>\n",
       "                        <td id=\"T_fc44c9e8_2ff5_11ea_83fe_b068e6390deerow0_col1\" class=\"data row0 col1\" >$3.35</td>\n",
       "                        <td id=\"T_fc44c9e8_2ff5_11ea_83fe_b068e6390deerow0_col2\" class=\"data row0 col2\" >$77.13</td>\n",
       "                        <td id=\"T_fc44c9e8_2ff5_11ea_83fe_b068e6390deerow0_col3\" class=\"data row0 col3\" >$4.54</td>\n",
       "            </tr>\n",
       "            <tr>\n",
       "                        <th id=\"T_fc44c9e8_2ff5_11ea_83fe_b068e6390deelevel0_row1\" class=\"row_heading level0 row1\" >10-14</th>\n",
       "                        <td id=\"T_fc44c9e8_2ff5_11ea_83fe_b068e6390deerow1_col0\" class=\"data row1 col0\" >28</td>\n",
       "                        <td id=\"T_fc44c9e8_2ff5_11ea_83fe_b068e6390deerow1_col1\" class=\"data row1 col1\" >$2.96</td>\n",
       "                        <td id=\"T_fc44c9e8_2ff5_11ea_83fe_b068e6390deerow1_col2\" class=\"data row1 col2\" >$82.78</td>\n",
       "                        <td id=\"T_fc44c9e8_2ff5_11ea_83fe_b068e6390deerow1_col3\" class=\"data row1 col3\" >$3.76</td>\n",
       "            </tr>\n",
       "            <tr>\n",
       "                        <th id=\"T_fc44c9e8_2ff5_11ea_83fe_b068e6390deelevel0_row2\" class=\"row_heading level0 row2\" >15-19</th>\n",
       "                        <td id=\"T_fc44c9e8_2ff5_11ea_83fe_b068e6390deerow2_col0\" class=\"data row2 col0\" >136</td>\n",
       "                        <td id=\"T_fc44c9e8_2ff5_11ea_83fe_b068e6390deerow2_col1\" class=\"data row2 col1\" >$3.04</td>\n",
       "                        <td id=\"T_fc44c9e8_2ff5_11ea_83fe_b068e6390deerow2_col2\" class=\"data row2 col2\" >$412.89</td>\n",
       "                        <td id=\"T_fc44c9e8_2ff5_11ea_83fe_b068e6390deerow2_col3\" class=\"data row2 col3\" >$3.86</td>\n",
       "            </tr>\n",
       "            <tr>\n",
       "                        <th id=\"T_fc44c9e8_2ff5_11ea_83fe_b068e6390deelevel0_row3\" class=\"row_heading level0 row3\" >20-24</th>\n",
       "                        <td id=\"T_fc44c9e8_2ff5_11ea_83fe_b068e6390deerow3_col0\" class=\"data row3 col0\" >365</td>\n",
       "                        <td id=\"T_fc44c9e8_2ff5_11ea_83fe_b068e6390deerow3_col1\" class=\"data row3 col1\" >$3.05</td>\n",
       "                        <td id=\"T_fc44c9e8_2ff5_11ea_83fe_b068e6390deerow3_col2\" class=\"data row3 col2\" >$1114.06</td>\n",
       "                        <td id=\"T_fc44c9e8_2ff5_11ea_83fe_b068e6390deerow3_col3\" class=\"data row3 col3\" >$4.32</td>\n",
       "            </tr>\n",
       "            <tr>\n",
       "                        <th id=\"T_fc44c9e8_2ff5_11ea_83fe_b068e6390deelevel0_row4\" class=\"row_heading level0 row4\" >25-29</th>\n",
       "                        <td id=\"T_fc44c9e8_2ff5_11ea_83fe_b068e6390deerow4_col0\" class=\"data row4 col0\" >101</td>\n",
       "                        <td id=\"T_fc44c9e8_2ff5_11ea_83fe_b068e6390deerow4_col1\" class=\"data row4 col1\" >$2.90</td>\n",
       "                        <td id=\"T_fc44c9e8_2ff5_11ea_83fe_b068e6390deerow4_col2\" class=\"data row4 col2\" >$293.00</td>\n",
       "                        <td id=\"T_fc44c9e8_2ff5_11ea_83fe_b068e6390deerow4_col3\" class=\"data row4 col3\" >$3.81</td>\n",
       "            </tr>\n",
       "            <tr>\n",
       "                        <th id=\"T_fc44c9e8_2ff5_11ea_83fe_b068e6390deelevel0_row5\" class=\"row_heading level0 row5\" >30-34</th>\n",
       "                        <td id=\"T_fc44c9e8_2ff5_11ea_83fe_b068e6390deerow5_col0\" class=\"data row5 col0\" >73</td>\n",
       "                        <td id=\"T_fc44c9e8_2ff5_11ea_83fe_b068e6390deerow5_col1\" class=\"data row5 col1\" >$2.93</td>\n",
       "                        <td id=\"T_fc44c9e8_2ff5_11ea_83fe_b068e6390deerow5_col2\" class=\"data row5 col2\" >$214.00</td>\n",
       "                        <td id=\"T_fc44c9e8_2ff5_11ea_83fe_b068e6390deerow5_col3\" class=\"data row5 col3\" >$4.12</td>\n",
       "            </tr>\n",
       "            <tr>\n",
       "                        <th id=\"T_fc44c9e8_2ff5_11ea_83fe_b068e6390deelevel0_row6\" class=\"row_heading level0 row6\" >35-39</th>\n",
       "                        <td id=\"T_fc44c9e8_2ff5_11ea_83fe_b068e6390deerow6_col0\" class=\"data row6 col0\" >41</td>\n",
       "                        <td id=\"T_fc44c9e8_2ff5_11ea_83fe_b068e6390deerow6_col1\" class=\"data row6 col1\" >$3.60</td>\n",
       "                        <td id=\"T_fc44c9e8_2ff5_11ea_83fe_b068e6390deerow6_col2\" class=\"data row6 col2\" >$147.67</td>\n",
       "                        <td id=\"T_fc44c9e8_2ff5_11ea_83fe_b068e6390deerow6_col3\" class=\"data row6 col3\" >$4.76</td>\n",
       "            </tr>\n",
       "            <tr>\n",
       "                        <th id=\"T_fc44c9e8_2ff5_11ea_83fe_b068e6390deelevel0_row7\" class=\"row_heading level0 row7\" >40-44</th>\n",
       "                        <td id=\"T_fc44c9e8_2ff5_11ea_83fe_b068e6390deerow7_col0\" class=\"data row7 col0\" >12</td>\n",
       "                        <td id=\"T_fc44c9e8_2ff5_11ea_83fe_b068e6390deerow7_col1\" class=\"data row7 col1\" >$3.04</td>\n",
       "                        <td id=\"T_fc44c9e8_2ff5_11ea_83fe_b068e6390deerow7_col2\" class=\"data row7 col2\" >$36.54</td>\n",
       "                        <td id=\"T_fc44c9e8_2ff5_11ea_83fe_b068e6390deerow7_col3\" class=\"data row7 col3\" >$3.32</td>\n",
       "            </tr>\n",
       "            <tr>\n",
       "                        <th id=\"T_fc44c9e8_2ff5_11ea_83fe_b068e6390deelevel0_row8\" class=\"row_heading level0 row8\" >45-49</th>\n",
       "                        <td id=\"T_fc44c9e8_2ff5_11ea_83fe_b068e6390deerow8_col0\" class=\"data row8 col0\" >1</td>\n",
       "                        <td id=\"T_fc44c9e8_2ff5_11ea_83fe_b068e6390deerow8_col1\" class=\"data row8 col1\" >$1.70</td>\n",
       "                        <td id=\"T_fc44c9e8_2ff5_11ea_83fe_b068e6390deerow8_col2\" class=\"data row8 col2\" >$1.70</td>\n",
       "                        <td id=\"T_fc44c9e8_2ff5_11ea_83fe_b068e6390deerow8_col3\" class=\"data row8 col3\" >$1.70</td>\n",
       "            </tr>\n",
       "    </tbody></table>"
      ],
      "text/plain": [
       "<pandas.io.formats.style.Styler at 0x1e9e2ec1588>"
      ]
     },
     "execution_count": 55,
     "metadata": {},
     "output_type": "execute_result"
    }
   ],
   "source": [
    "#age purchase analysis dataframe setup\n",
    "\n",
    "age_purchase = pd.DataFrame({\"Age\": [\"<10\", \"10-14\", \"15-19\", \"20-24\", \"25-29\", \"30-34\", \"35-39\", \"40-44\", \"45-49\"],\n",
    "                              \"Purchase Count\": [children[\"Price\"].count(), tween[\"Price\"].count(), teen[\"Price\"].count(), college[\"Price\"].count(), midtwent[\"Price\"].count(), thirt[\"Price\"].count(), latethirt[\"Price\"].count(), fort[\"Price\"].count(), latefort[\"Price\"].count()],\n",
    "                              \"Average Purchase Price\": [children[\"Price\"].mean(), tween[\"Price\"].mean(), teen[\"Price\"].mean(), college[\"Price\"].mean(), midtwent[\"Price\"].mean(), thirt[\"Price\"].mean(), latethirt[\"Price\"].mean(), fort[\"Price\"].mean(), latefort[\"Price\"].mean()], \n",
    "                              \"Total Purchase Value\": [children[\"Price\"].sum(), tween[\"Price\"].sum(), teen[\"Price\"].sum(), college[\"Price\"].sum(), midtwent[\"Price\"].sum(), thirt[\"Price\"].sum(), latethirt[\"Price\"].sum(), fort[\"Price\"].sum(), latefort[\"Price\"].sum()],\n",
    "                              \"Average Total Purchase per Person\": [children[\"Price\"].sum()/children['SN'].nunique(), tween[\"Price\"].sum()/tween['SN'].nunique(), teen[\"Price\"].sum()/teen['SN'].nunique(), \n",
    "                                                    college[\"Price\"].sum()/college['SN'].nunique(), midtwent[\"Price\"].sum()/midtwent['SN'].nunique(), \n",
    "                                                    thirt[\"Price\"].sum()/thirt['SN'].nunique(), latethirt[\"Price\"].sum()/latethirt['SN'].nunique(), \n",
    "                                                    fort[\"Price\"].sum()/fort['SN'].nunique(), latefort[\"Price\"].sum()/latefort['SN'].nunique()]}, \n",
    "                             columns = \n",
    "                            [\"Age\", \"Purchase Count\", \"Average Purchase Price\", \"Total Purchase Value\", \"Average Total Purchase per Person\"])\n",
    "\n",
    "\n",
    "#style fixes\n",
    "age_purchase_final = age_purchase.set_index(\"Age\")\n",
    "\n",
    "age_purchase_final.style.format({\"Average Purchase Price\": \"${:.2f}\", \"Total Purchase Value\": \"${:.2f}\", \"Average Total Purchase per Person\": \"${:.2f}\"})\n"
   ]
  },
  {
   "cell_type": "markdown",
   "metadata": {},
   "source": [
    "## Top Spenders"
   ]
  },
  {
   "cell_type": "markdown",
   "metadata": {},
   "source": [
    "* Run basic calculations to obtain the results in the table below\n",
    "\n",
    "\n",
    "* Create a summary data frame to hold the results\n",
    "\n",
    "\n",
    "* Sort the total purchase value column in descending order\n",
    "\n",
    "\n",
    "* Optional: give the displayed data cleaner formatting\n",
    "\n",
    "\n",
    "* Display a preview of the summary data frame\n",
    "\n"
   ]
  },
  {
   "cell_type": "code",
   "execution_count": 56,
   "metadata": {},
   "outputs": [
    {
     "data": {
      "text/html": [
       "<style  type=\"text/css\" >\n",
       "</style><table id=\"T_fe76dcca_2ff5_11ea_a335_b068e6390dee\" ><thead>    <tr>        <th class=\"blank level0\" ></th>        <th class=\"col_heading level0 col0\" >Purchase Count</th>        <th class=\"col_heading level0 col1\" >Average Purchase Price</th>        <th class=\"col_heading level0 col2\" >Total Purchase Value</th>    </tr>    <tr>        <th class=\"index_name level0\" >SN</th>        <th class=\"blank\" ></th>        <th class=\"blank\" ></th>        <th class=\"blank\" ></th>    </tr></thead><tbody>\n",
       "                <tr>\n",
       "                        <th id=\"T_fe76dcca_2ff5_11ea_a335_b068e6390deelevel0_row0\" class=\"row_heading level0 row0\" >Lisosia93</th>\n",
       "                        <td id=\"T_fe76dcca_2ff5_11ea_a335_b068e6390deerow0_col0\" class=\"data row0 col0\" >5</td>\n",
       "                        <td id=\"T_fe76dcca_2ff5_11ea_a335_b068e6390deerow0_col1\" class=\"data row0 col1\" >$3.79</td>\n",
       "                        <td id=\"T_fe76dcca_2ff5_11ea_a335_b068e6390deerow0_col2\" class=\"data row0 col2\" >$18.96</td>\n",
       "            </tr>\n",
       "            <tr>\n",
       "                        <th id=\"T_fe76dcca_2ff5_11ea_a335_b068e6390deelevel0_row1\" class=\"row_heading level0 row1\" >Idastidru52</th>\n",
       "                        <td id=\"T_fe76dcca_2ff5_11ea_a335_b068e6390deerow1_col0\" class=\"data row1 col0\" >4</td>\n",
       "                        <td id=\"T_fe76dcca_2ff5_11ea_a335_b068e6390deerow1_col1\" class=\"data row1 col1\" >$3.86</td>\n",
       "                        <td id=\"T_fe76dcca_2ff5_11ea_a335_b068e6390deerow1_col2\" class=\"data row1 col2\" >$15.45</td>\n",
       "            </tr>\n",
       "            <tr>\n",
       "                        <th id=\"T_fe76dcca_2ff5_11ea_a335_b068e6390deelevel0_row2\" class=\"row_heading level0 row2\" >Chamjask73</th>\n",
       "                        <td id=\"T_fe76dcca_2ff5_11ea_a335_b068e6390deerow2_col0\" class=\"data row2 col0\" >3</td>\n",
       "                        <td id=\"T_fe76dcca_2ff5_11ea_a335_b068e6390deerow2_col1\" class=\"data row2 col1\" >$4.61</td>\n",
       "                        <td id=\"T_fe76dcca_2ff5_11ea_a335_b068e6390deerow2_col2\" class=\"data row2 col2\" >$13.83</td>\n",
       "            </tr>\n",
       "            <tr>\n",
       "                        <th id=\"T_fe76dcca_2ff5_11ea_a335_b068e6390deelevel0_row3\" class=\"row_heading level0 row3\" >Iral74</th>\n",
       "                        <td id=\"T_fe76dcca_2ff5_11ea_a335_b068e6390deerow3_col0\" class=\"data row3 col0\" >4</td>\n",
       "                        <td id=\"T_fe76dcca_2ff5_11ea_a335_b068e6390deerow3_col1\" class=\"data row3 col1\" >$3.40</td>\n",
       "                        <td id=\"T_fe76dcca_2ff5_11ea_a335_b068e6390deerow3_col2\" class=\"data row3 col2\" >$13.62</td>\n",
       "            </tr>\n",
       "            <tr>\n",
       "                        <th id=\"T_fe76dcca_2ff5_11ea_a335_b068e6390deelevel0_row4\" class=\"row_heading level0 row4\" >Iskadarya95</th>\n",
       "                        <td id=\"T_fe76dcca_2ff5_11ea_a335_b068e6390deerow4_col0\" class=\"data row4 col0\" >3</td>\n",
       "                        <td id=\"T_fe76dcca_2ff5_11ea_a335_b068e6390deerow4_col1\" class=\"data row4 col1\" >$4.37</td>\n",
       "                        <td id=\"T_fe76dcca_2ff5_11ea_a335_b068e6390deerow4_col2\" class=\"data row4 col2\" >$13.10</td>\n",
       "            </tr>\n",
       "    </tbody></table>"
      ],
      "text/plain": [
       "<pandas.io.formats.style.Styler at 0x1e9e34ce1c8>"
      ]
     },
     "execution_count": 56,
     "metadata": {},
     "output_type": "execute_result"
    }
   ],
   "source": [
    "#data setup\n",
    "user_total_purchase = purchase_data.groupby('SN')['Price'].sum().to_frame()\n",
    "user_purchase_count = purchase_data.groupby('SN')['Price'].count().to_frame()\n",
    "user_purchase_avg = purchase_data.groupby('SN')['Price'].mean().to_frame()\n",
    "\n",
    "#column fixes\n",
    "user_total_purchase.columns=[\"Total Purchase Value\"]\n",
    "join_one = user_total_purchase.join(user_purchase_count, how=\"left\")\n",
    "join_one.columns=[\"Total Purchase Value\", \"Purchase Count\"]\n",
    "\n",
    "#joining datum\n",
    "join_two = join_one.join(user_purchase_avg, how=\"inner\")\n",
    "join_two.columns=[\"Total Purchase Value\", \"Purchase Count\", \"Average Purchase Price\"]\n",
    "\n",
    "#dataframe set up, style fixes\n",
    "top_spenders_df = join_two[[\"Purchase Count\", \"Average Purchase Price\", \"Total Purchase Value\"]]\n",
    "top_spenders_final = top_spenders_df.sort_values('Total Purchase Value', ascending=False).head()\n",
    "top_spenders_final.style.format({\"Average Purchase Price\": \"${:.2f}\", \"Total Purchase Value\": \"${:.2f}\"})\n",
    "\n"
   ]
  },
  {
   "cell_type": "markdown",
   "metadata": {},
   "source": [
    "## Most Popular Items"
   ]
  },
  {
   "cell_type": "markdown",
   "metadata": {},
   "source": [
    "* Retrieve the Item ID, Item Name, and Item Price columns\n",
    "\n",
    "\n",
    "* Group by Item ID and Item Name. Perform calculations to obtain purchase count, item price, and total purchase value\n",
    "\n",
    "\n",
    "* Create a summary data frame to hold the results\n",
    "\n",
    "\n",
    "* Sort the purchase count column in descending order\n",
    "\n",
    "\n",
    "* Optional: give the displayed data cleaner formatting\n",
    "\n",
    "\n",
    "* Display a preview of the summary data frame\n",
    "\n"
   ]
  },
  {
   "cell_type": "code",
   "execution_count": 57,
   "metadata": {},
   "outputs": [
    {
     "data": {
      "text/html": [
       "<style  type=\"text/css\" >\n",
       "</style><table id=\"T_0341dee6_2ff6_11ea_9e19_b068e6390dee\" ><thead>    <tr>        <th class=\"blank\" ></th>        <th class=\"blank level0\" ></th>        <th class=\"col_heading level0 col0\" >Purchase Count</th>        <th class=\"col_heading level0 col1\" >Item Price</th>        <th class=\"col_heading level0 col2\" >Total Purchase Value</th>    </tr>    <tr>        <th class=\"index_name level0\" >Item ID</th>        <th class=\"index_name level1\" >Item Name</th>        <th class=\"blank\" ></th>        <th class=\"blank\" ></th>        <th class=\"blank\" ></th>    </tr></thead><tbody>\n",
       "                <tr>\n",
       "                        <th id=\"T_0341dee6_2ff6_11ea_9e19_b068e6390deelevel0_row0\" class=\"row_heading level0 row0\" >178</th>\n",
       "                        <th id=\"T_0341dee6_2ff6_11ea_9e19_b068e6390deelevel1_row0\" class=\"row_heading level1 row0\" >Oathbreaker, Last Hope of the Breaking Storm</th>\n",
       "                        <td id=\"T_0341dee6_2ff6_11ea_9e19_b068e6390deerow0_col0\" class=\"data row0 col0\" >12</td>\n",
       "                        <td id=\"T_0341dee6_2ff6_11ea_9e19_b068e6390deerow0_col1\" class=\"data row0 col1\" >$4.23</td>\n",
       "                        <td id=\"T_0341dee6_2ff6_11ea_9e19_b068e6390deerow0_col2\" class=\"data row0 col2\" >$50.76</td>\n",
       "            </tr>\n",
       "            <tr>\n",
       "                        <th id=\"T_0341dee6_2ff6_11ea_9e19_b068e6390deelevel0_row1\" class=\"row_heading level0 row1\" >82</th>\n",
       "                        <th id=\"T_0341dee6_2ff6_11ea_9e19_b068e6390deelevel1_row1\" class=\"row_heading level1 row1\" >Nirvana</th>\n",
       "                        <td id=\"T_0341dee6_2ff6_11ea_9e19_b068e6390deerow1_col0\" class=\"data row1 col0\" >9</td>\n",
       "                        <td id=\"T_0341dee6_2ff6_11ea_9e19_b068e6390deerow1_col1\" class=\"data row1 col1\" >$4.90</td>\n",
       "                        <td id=\"T_0341dee6_2ff6_11ea_9e19_b068e6390deerow1_col2\" class=\"data row1 col2\" >$44.10</td>\n",
       "            </tr>\n",
       "            <tr>\n",
       "                        <th id=\"T_0341dee6_2ff6_11ea_9e19_b068e6390deelevel0_row2\" class=\"row_heading level0 row2\" >145</th>\n",
       "                        <th id=\"T_0341dee6_2ff6_11ea_9e19_b068e6390deelevel1_row2\" class=\"row_heading level1 row2\" >Fiery Glass Crusader</th>\n",
       "                        <td id=\"T_0341dee6_2ff6_11ea_9e19_b068e6390deerow2_col0\" class=\"data row2 col0\" >9</td>\n",
       "                        <td id=\"T_0341dee6_2ff6_11ea_9e19_b068e6390deerow2_col1\" class=\"data row2 col1\" >$4.58</td>\n",
       "                        <td id=\"T_0341dee6_2ff6_11ea_9e19_b068e6390deerow2_col2\" class=\"data row2 col2\" >$41.22</td>\n",
       "            </tr>\n",
       "            <tr>\n",
       "                        <th id=\"T_0341dee6_2ff6_11ea_9e19_b068e6390deelevel0_row3\" class=\"row_heading level0 row3\" >108</th>\n",
       "                        <th id=\"T_0341dee6_2ff6_11ea_9e19_b068e6390deelevel1_row3\" class=\"row_heading level1 row3\" >Extraction, Quickblade Of Trembling Hands</th>\n",
       "                        <td id=\"T_0341dee6_2ff6_11ea_9e19_b068e6390deerow3_col0\" class=\"data row3 col0\" >9</td>\n",
       "                        <td id=\"T_0341dee6_2ff6_11ea_9e19_b068e6390deerow3_col1\" class=\"data row3 col1\" >$3.53</td>\n",
       "                        <td id=\"T_0341dee6_2ff6_11ea_9e19_b068e6390deerow3_col2\" class=\"data row3 col2\" >$31.77</td>\n",
       "            </tr>\n",
       "            <tr>\n",
       "                        <th id=\"T_0341dee6_2ff6_11ea_9e19_b068e6390deelevel0_row4\" class=\"row_heading level0 row4\" >103</th>\n",
       "                        <th id=\"T_0341dee6_2ff6_11ea_9e19_b068e6390deelevel1_row4\" class=\"row_heading level1 row4\" >Singed Scalpel</th>\n",
       "                        <td id=\"T_0341dee6_2ff6_11ea_9e19_b068e6390deerow4_col0\" class=\"data row4 col0\" >8</td>\n",
       "                        <td id=\"T_0341dee6_2ff6_11ea_9e19_b068e6390deerow4_col1\" class=\"data row4 col1\" >$4.35</td>\n",
       "                        <td id=\"T_0341dee6_2ff6_11ea_9e19_b068e6390deerow4_col2\" class=\"data row4 col2\" >$34.80</td>\n",
       "            </tr>\n",
       "            <tr>\n",
       "                        <th id=\"T_0341dee6_2ff6_11ea_9e19_b068e6390deelevel0_row5\" class=\"row_heading level0 row5\" >60</th>\n",
       "                        <th id=\"T_0341dee6_2ff6_11ea_9e19_b068e6390deelevel1_row5\" class=\"row_heading level1 row5\" >Wolf</th>\n",
       "                        <td id=\"T_0341dee6_2ff6_11ea_9e19_b068e6390deerow5_col0\" class=\"data row5 col0\" >8</td>\n",
       "                        <td id=\"T_0341dee6_2ff6_11ea_9e19_b068e6390deerow5_col1\" class=\"data row5 col1\" >$3.54</td>\n",
       "                        <td id=\"T_0341dee6_2ff6_11ea_9e19_b068e6390deerow5_col2\" class=\"data row5 col2\" >$28.32</td>\n",
       "            </tr>\n",
       "    </tbody></table>"
      ],
      "text/plain": [
       "<pandas.io.formats.style.Styler at 0x1e9e33ba988>"
      ]
     },
     "execution_count": 57,
     "metadata": {},
     "output_type": "execute_result"
    }
   ],
   "source": [
    "#setting up dataframes to merge\n",
    "premerge_one = purchase_data.groupby(\"Item Name\").sum().reset_index()\n",
    "premerge_two = purchase_data.groupby(\"Item ID\").sum().reset_index()\n",
    "premerge_three = purchase_data.groupby(\"Item Name\").count().reset_index()\n",
    "\n",
    "#merging with panda, playa\n",
    "merge_one = pd.merge(premerge_one, premerge_two, on=\"Price\")\n",
    "merge_two = pd.merge(premerge_three, merge_one, on=\"Item Name\")\n",
    "\n",
    "#creating dataframe and renaming\n",
    "merge_two[\"Gender\"] = (merge_two[\"Price_y\"]/merge_two[\"Item ID\"]).round(2)\n",
    "merge_two_rename = merge_two.rename(columns={\"Age\": \"Purchase Count\", \"Gender\": \"Item Price\", \"Item ID\": \"null\", \"Price_y\": \"Total Purchase Value\", \"Item ID_y\": \"Item ID\"})\n",
    "\n",
    "#grab columns i want, clean merges, set indexes\n",
    "clean_merge = merge_two_rename[[\"Item ID\", \"Item Name\", \"Purchase Count\", \"Item Price\", \"Total Purchase Value\"]]\n",
    "merged_df = clean_merge.set_index(['Item ID','Item Name'])\n",
    "\n",
    "#final style fixes and setup\n",
    "pop_items_final = merged_df.sort_values('Purchase Count', ascending=False).head(6)\n",
    "pop_items_final.style.format({\"Item Price\": \"${:.2f}\", \"Total Purchase Value\": \"${:.2f}\"})"
   ]
  },
  {
   "cell_type": "markdown",
   "metadata": {},
   "source": [
    "## Most Profitable Items"
   ]
  },
  {
   "cell_type": "markdown",
   "metadata": {},
   "source": [
    "* Sort the above table by total purchase value in descending order\n",
    "\n",
    "\n",
    "* Optional: give the displayed data cleaner formatting\n",
    "\n",
    "\n",
    "* Display a preview of the data frame\n",
    "\n"
   ]
  },
  {
   "cell_type": "code",
   "execution_count": 58,
   "metadata": {},
   "outputs": [
    {
     "data": {
      "text/html": [
       "<style  type=\"text/css\" >\n",
       "</style><table id=\"T_063f4db6_2ff6_11ea_91d1_b068e6390dee\" ><thead>    <tr>        <th class=\"blank\" ></th>        <th class=\"blank level0\" ></th>        <th class=\"col_heading level0 col0\" >Purchase Count</th>        <th class=\"col_heading level0 col1\" >Item Price</th>        <th class=\"col_heading level0 col2\" >Total Purchase Value</th>    </tr>    <tr>        <th class=\"index_name level0\" >Item ID</th>        <th class=\"index_name level1\" >Item Name</th>        <th class=\"blank\" ></th>        <th class=\"blank\" ></th>        <th class=\"blank\" ></th>    </tr></thead><tbody>\n",
       "                <tr>\n",
       "                        <th id=\"T_063f4db6_2ff6_11ea_91d1_b068e6390deelevel0_row0\" class=\"row_heading level0 row0\" >178</th>\n",
       "                        <th id=\"T_063f4db6_2ff6_11ea_91d1_b068e6390deelevel1_row0\" class=\"row_heading level1 row0\" >Oathbreaker, Last Hope of the Breaking Storm</th>\n",
       "                        <td id=\"T_063f4db6_2ff6_11ea_91d1_b068e6390deerow0_col0\" class=\"data row0 col0\" >12</td>\n",
       "                        <td id=\"T_063f4db6_2ff6_11ea_91d1_b068e6390deerow0_col1\" class=\"data row0 col1\" >$4.23</td>\n",
       "                        <td id=\"T_063f4db6_2ff6_11ea_91d1_b068e6390deerow0_col2\" class=\"data row0 col2\" >$50.76</td>\n",
       "            </tr>\n",
       "            <tr>\n",
       "                        <th id=\"T_063f4db6_2ff6_11ea_91d1_b068e6390deelevel0_row1\" class=\"row_heading level0 row1\" >82</th>\n",
       "                        <th id=\"T_063f4db6_2ff6_11ea_91d1_b068e6390deelevel1_row1\" class=\"row_heading level1 row1\" >Nirvana</th>\n",
       "                        <td id=\"T_063f4db6_2ff6_11ea_91d1_b068e6390deerow1_col0\" class=\"data row1 col0\" >9</td>\n",
       "                        <td id=\"T_063f4db6_2ff6_11ea_91d1_b068e6390deerow1_col1\" class=\"data row1 col1\" >$4.90</td>\n",
       "                        <td id=\"T_063f4db6_2ff6_11ea_91d1_b068e6390deerow1_col2\" class=\"data row1 col2\" >$44.10</td>\n",
       "            </tr>\n",
       "            <tr>\n",
       "                        <th id=\"T_063f4db6_2ff6_11ea_91d1_b068e6390deelevel0_row2\" class=\"row_heading level0 row2\" >145</th>\n",
       "                        <th id=\"T_063f4db6_2ff6_11ea_91d1_b068e6390deelevel1_row2\" class=\"row_heading level1 row2\" >Fiery Glass Crusader</th>\n",
       "                        <td id=\"T_063f4db6_2ff6_11ea_91d1_b068e6390deerow2_col0\" class=\"data row2 col0\" >9</td>\n",
       "                        <td id=\"T_063f4db6_2ff6_11ea_91d1_b068e6390deerow2_col1\" class=\"data row2 col1\" >$4.58</td>\n",
       "                        <td id=\"T_063f4db6_2ff6_11ea_91d1_b068e6390deerow2_col2\" class=\"data row2 col2\" >$41.22</td>\n",
       "            </tr>\n",
       "            <tr>\n",
       "                        <th id=\"T_063f4db6_2ff6_11ea_91d1_b068e6390deelevel0_row3\" class=\"row_heading level0 row3\" >103</th>\n",
       "                        <th id=\"T_063f4db6_2ff6_11ea_91d1_b068e6390deelevel1_row3\" class=\"row_heading level1 row3\" >Singed Scalpel</th>\n",
       "                        <td id=\"T_063f4db6_2ff6_11ea_91d1_b068e6390deerow3_col0\" class=\"data row3 col0\" >8</td>\n",
       "                        <td id=\"T_063f4db6_2ff6_11ea_91d1_b068e6390deerow3_col1\" class=\"data row3 col1\" >$4.35</td>\n",
       "                        <td id=\"T_063f4db6_2ff6_11ea_91d1_b068e6390deerow3_col2\" class=\"data row3 col2\" >$34.80</td>\n",
       "            </tr>\n",
       "            <tr>\n",
       "                        <th id=\"T_063f4db6_2ff6_11ea_91d1_b068e6390deelevel0_row4\" class=\"row_heading level0 row4\" >59</th>\n",
       "                        <th id=\"T_063f4db6_2ff6_11ea_91d1_b068e6390deelevel1_row4\" class=\"row_heading level1 row4\" >Lightning, Etcher of the King</th>\n",
       "                        <td id=\"T_063f4db6_2ff6_11ea_91d1_b068e6390deerow4_col0\" class=\"data row4 col0\" >8</td>\n",
       "                        <td id=\"T_063f4db6_2ff6_11ea_91d1_b068e6390deerow4_col1\" class=\"data row4 col1\" >$4.23</td>\n",
       "                        <td id=\"T_063f4db6_2ff6_11ea_91d1_b068e6390deerow4_col2\" class=\"data row4 col2\" >$33.84</td>\n",
       "            </tr>\n",
       "    </tbody></table>"
      ],
      "text/plain": [
       "<pandas.io.formats.style.Styler at 0x1e9e33a6f88>"
      ]
     },
     "execution_count": 58,
     "metadata": {},
     "output_type": "execute_result"
    }
   ],
   "source": [
    "#pulling back prev dataframe to find most profitable\n",
    "profitable_items = merged_df.sort_values('Total Purchase Value', ascending=False).head()\n",
    "\n",
    "#style fixes\n",
    "profitable_items.style.format({\"Item Price\": \"${:.2f}\", \"Total Purchase Value\": \"${:.2f}\"})"
   ]
  },
  {
   "cell_type": "code",
   "execution_count": null,
   "metadata": {},
   "outputs": [],
   "source": []
  }
 ],
 "metadata": {
  "anaconda-cloud": {},
  "kernel_info": {
   "name": "python3"
  },
  "kernelspec": {
   "display_name": "Python 3",
   "language": "python",
   "name": "python3"
  },
  "language_info": {
   "codemirror_mode": {
    "name": "ipython",
    "version": 3
   },
   "file_extension": ".py",
   "mimetype": "text/x-python",
   "name": "python",
   "nbconvert_exporter": "python",
   "pygments_lexer": "ipython3",
   "version": "3.7.4"
  },
  "latex_envs": {
   "LaTeX_envs_menu_present": true,
   "autoclose": false,
   "autocomplete": true,
   "bibliofile": "biblio.bib",
   "cite_by": "apalike",
   "current_citInitial": 1,
   "eqLabelWithNumbers": true,
   "eqNumInitial": 1,
   "hotkeys": {
    "equation": "Ctrl-E",
    "itemize": "Ctrl-I"
   },
   "labels_anchors": false,
   "latex_user_defs": false,
   "report_style_numbering": false,
   "user_envs_cfg": false
  },
  "nteract": {
   "version": "0.2.0"
  }
 },
 "nbformat": 4,
 "nbformat_minor": 2
}
